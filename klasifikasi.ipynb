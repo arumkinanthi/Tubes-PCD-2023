{
 "cells": [
  {
   "cell_type": "code",
   "execution_count": 169,
   "metadata": {},
   "outputs": [],
   "source": [
    "from sklearn import datasets\n",
    "from sklearn.model_selection import train_test_split\n",
    "from sklearn import svm\n",
    "from sklearn.metrics import accuracy_score\n",
    "from sklearn.metrics import classification_report\n",
    "from sklearn.preprocessing import StandardScaler\n",
    "from sklearn.decomposition import PCA\n",
    "\n",
    "import pandas as pd\n",
    "import seaborn as sns"
   ]
  },
  {
   "cell_type": "code",
   "execution_count": 170,
   "metadata": {},
   "outputs": [
    {
     "data": {
      "text/html": [
       "<div>\n",
       "<style scoped>\n",
       "    .dataframe tbody tr th:only-of-type {\n",
       "        vertical-align: middle;\n",
       "    }\n",
       "\n",
       "    .dataframe tbody tr th {\n",
       "        vertical-align: top;\n",
       "    }\n",
       "\n",
       "    .dataframe thead th {\n",
       "        text-align: right;\n",
       "    }\n",
       "</style>\n",
       "<table border=\"1\" class=\"dataframe\">\n",
       "  <thead>\n",
       "    <tr style=\"text-align: right;\">\n",
       "      <th></th>\n",
       "      <th>path</th>\n",
       "      <th>energi0</th>\n",
       "      <th>homogenitas0</th>\n",
       "      <th>entropy0</th>\n",
       "      <th>contras0</th>\n",
       "      <th>dissimilarity0</th>\n",
       "      <th>ASM0</th>\n",
       "      <th>correlation0</th>\n",
       "      <th>energi45</th>\n",
       "      <th>homogenitas45</th>\n",
       "      <th>...</th>\n",
       "      <th>ASM90</th>\n",
       "      <th>correlation90</th>\n",
       "      <th>energi135</th>\n",
       "      <th>homogenitas135</th>\n",
       "      <th>entropy135</th>\n",
       "      <th>contras135</th>\n",
       "      <th>dissimilarity135</th>\n",
       "      <th>ASM135</th>\n",
       "      <th>correlation135</th>\n",
       "      <th>labels</th>\n",
       "    </tr>\n",
       "  </thead>\n",
       "  <tbody>\n",
       "    <tr>\n",
       "      <th>0</th>\n",
       "      <td>Kawung1.jpg</td>\n",
       "      <td>0.345918</td>\n",
       "      <td>0.735099</td>\n",
       "      <td>1.752151</td>\n",
       "      <td>715816961.0</td>\n",
       "      <td>5592321.0</td>\n",
       "      <td>0.345918</td>\n",
       "      <td>0.423307</td>\n",
       "      <td>0.335948</td>\n",
       "      <td>0.710731</td>\n",
       "      <td>...</td>\n",
       "      <td>0.346409</td>\n",
       "      <td>0.420493</td>\n",
       "      <td>0.335199</td>\n",
       "      <td>0.708947</td>\n",
       "      <td>1.783047</td>\n",
       "      <td>715816961.0</td>\n",
       "      <td>5592321.0</td>\n",
       "      <td>0.335199</td>\n",
       "      <td>0.365139</td>\n",
       "      <td>Kawung</td>\n",
       "    </tr>\n",
       "    <tr>\n",
       "      <th>1</th>\n",
       "      <td>Kawung11.jpg</td>\n",
       "      <td>0.469772</td>\n",
       "      <td>0.734348</td>\n",
       "      <td>1.465789</td>\n",
       "      <td>715816961.0</td>\n",
       "      <td>5592321.0</td>\n",
       "      <td>0.469772</td>\n",
       "      <td>0.207342</td>\n",
       "      <td>0.447978</td>\n",
       "      <td>0.678605</td>\n",
       "      <td>...</td>\n",
       "      <td>0.471957</td>\n",
       "      <td>0.211468</td>\n",
       "      <td>0.446619</td>\n",
       "      <td>0.674761</td>\n",
       "      <td>1.489468</td>\n",
       "      <td>715816961.0</td>\n",
       "      <td>5592321.0</td>\n",
       "      <td>0.446619</td>\n",
       "      <td>0.025984</td>\n",
       "      <td>Kawung</td>\n",
       "    </tr>\n",
       "    <tr>\n",
       "      <th>2</th>\n",
       "      <td>Kawung12.jpg</td>\n",
       "      <td>0.371557</td>\n",
       "      <td>0.752011</td>\n",
       "      <td>1.692554</td>\n",
       "      <td>715816961.0</td>\n",
       "      <td>5592321.0</td>\n",
       "      <td>0.371557</td>\n",
       "      <td>0.438867</td>\n",
       "      <td>0.363461</td>\n",
       "      <td>0.733460</td>\n",
       "      <td>...</td>\n",
       "      <td>0.384651</td>\n",
       "      <td>0.489927</td>\n",
       "      <td>0.361652</td>\n",
       "      <td>0.729554</td>\n",
       "      <td>1.720779</td>\n",
       "      <td>715816961.0</td>\n",
       "      <td>5592321.0</td>\n",
       "      <td>0.361652</td>\n",
       "      <td>0.386793</td>\n",
       "      <td>Kawung</td>\n",
       "    </tr>\n",
       "    <tr>\n",
       "      <th>3</th>\n",
       "      <td>Kawung13.jpg</td>\n",
       "      <td>0.344550</td>\n",
       "      <td>0.688347</td>\n",
       "      <td>1.765518</td>\n",
       "      <td>715816961.0</td>\n",
       "      <td>5592321.0</td>\n",
       "      <td>0.344550</td>\n",
       "      <td>0.293171</td>\n",
       "      <td>0.340061</td>\n",
       "      <td>0.673454</td>\n",
       "      <td>...</td>\n",
       "      <td>0.360312</td>\n",
       "      <td>0.373603</td>\n",
       "      <td>0.339679</td>\n",
       "      <td>0.672346</td>\n",
       "      <td>1.777420</td>\n",
       "      <td>715816961.0</td>\n",
       "      <td>5592321.0</td>\n",
       "      <td>0.339679</td>\n",
       "      <td>0.255360</td>\n",
       "      <td>Kawung</td>\n",
       "    </tr>\n",
       "    <tr>\n",
       "      <th>4</th>\n",
       "      <td>Kawung14.jpg</td>\n",
       "      <td>0.364211</td>\n",
       "      <td>0.674714</td>\n",
       "      <td>1.718105</td>\n",
       "      <td>715816961.0</td>\n",
       "      <td>5592321.0</td>\n",
       "      <td>0.364211</td>\n",
       "      <td>0.218638</td>\n",
       "      <td>0.362164</td>\n",
       "      <td>0.666549</td>\n",
       "      <td>...</td>\n",
       "      <td>0.386194</td>\n",
       "      <td>0.344901</td>\n",
       "      <td>0.362761</td>\n",
       "      <td>0.668333</td>\n",
       "      <td>1.720693</td>\n",
       "      <td>715816961.0</td>\n",
       "      <td>5592321.0</td>\n",
       "      <td>0.362761</td>\n",
       "      <td>0.201891</td>\n",
       "      <td>Kawung</td>\n",
       "    </tr>\n",
       "  </tbody>\n",
       "</table>\n",
       "<p>5 rows × 30 columns</p>\n",
       "</div>"
      ],
      "text/plain": [
       "           path   energi0  homogenitas0  entropy0     contras0  \\\n",
       "0   Kawung1.jpg  0.345918      0.735099  1.752151  715816961.0   \n",
       "1  Kawung11.jpg  0.469772      0.734348  1.465789  715816961.0   \n",
       "2  Kawung12.jpg  0.371557      0.752011  1.692554  715816961.0   \n",
       "3  Kawung13.jpg  0.344550      0.688347  1.765518  715816961.0   \n",
       "4  Kawung14.jpg  0.364211      0.674714  1.718105  715816961.0   \n",
       "\n",
       "   dissimilarity0      ASM0  correlation0  energi45  homogenitas45  ...  \\\n",
       "0       5592321.0  0.345918      0.423307  0.335948       0.710731  ...   \n",
       "1       5592321.0  0.469772      0.207342  0.447978       0.678605  ...   \n",
       "2       5592321.0  0.371557      0.438867  0.363461       0.733460  ...   \n",
       "3       5592321.0  0.344550      0.293171  0.340061       0.673454  ...   \n",
       "4       5592321.0  0.364211      0.218638  0.362164       0.666549  ...   \n",
       "\n",
       "      ASM90  correlation90  energi135  homogenitas135  entropy135  \\\n",
       "0  0.346409       0.420493   0.335199        0.708947    1.783047   \n",
       "1  0.471957       0.211468   0.446619        0.674761    1.489468   \n",
       "2  0.384651       0.489927   0.361652        0.729554    1.720779   \n",
       "3  0.360312       0.373603   0.339679        0.672346    1.777420   \n",
       "4  0.386194       0.344901   0.362761        0.668333    1.720693   \n",
       "\n",
       "    contras135  dissimilarity135    ASM135  correlation135  labels  \n",
       "0  715816961.0         5592321.0  0.335199        0.365139  Kawung  \n",
       "1  715816961.0         5592321.0  0.446619        0.025984  Kawung  \n",
       "2  715816961.0         5592321.0  0.361652        0.386793  Kawung  \n",
       "3  715816961.0         5592321.0  0.339679        0.255360  Kawung  \n",
       "4  715816961.0         5592321.0  0.362761        0.201891  Kawung  \n",
       "\n",
       "[5 rows x 30 columns]"
      ]
     },
     "execution_count": 170,
     "metadata": {},
     "output_type": "execute_result"
    }
   ],
   "source": [
    "df = pd.read_csv('akurasi_ekstraksi_ciri.csv')\n",
    "df.head(5)"
   ]
  },
  {
   "cell_type": "code",
   "execution_count": 171,
   "metadata": {},
   "outputs": [],
   "source": [
    "df = df.fillna(0)"
   ]
  },
  {
   "cell_type": "code",
   "execution_count": 172,
   "metadata": {},
   "outputs": [],
   "source": [
    "y = df['labels']\n",
    "X = df.drop(['labels', 'path'], axis = 1)"
   ]
  },
  {
   "cell_type": "code",
   "execution_count": 173,
   "metadata": {},
   "outputs": [],
   "source": [
    "scaler = StandardScaler()\n",
    "X_scaled = scaler.fit_transform(X)"
   ]
  },
  {
   "cell_type": "code",
   "execution_count": 174,
   "metadata": {},
   "outputs": [],
   "source": [
    "#apply PCA\n",
    "pca = PCA(n_components=4)\n",
    "pca.fit(X_scaled)\n",
    "X_pca = pca.transform(X_scaled)"
   ]
  },
  {
   "cell_type": "code",
   "execution_count": 175,
   "metadata": {},
   "outputs": [],
   "source": [
    "X_train, X_test, y_train, y_test = train_test_split(X_pca, y, test_size=0.25)"
   ]
  },
  {
   "cell_type": "code",
   "execution_count": 176,
   "metadata": {},
   "outputs": [],
   "source": [
    "model = svm.SVC()\n",
    "model.fit(X_train, y_train)\n",
    "# predicting the response for test dataset\n",
    "y_pred = model.predict(X_test)"
   ]
  },
  {
   "cell_type": "code",
   "execution_count": 177,
   "metadata": {},
   "outputs": [
    {
     "name": "stdout",
     "output_type": "stream",
     "text": [
      "Accuracy: 62 %\n"
     ]
    }
   ],
   "source": [
    "# reporting model accuracy\n",
    "print(\"Accuracy:\", round(accuracy_score(y_test, y_pred)*100),'%')"
   ]
  },
  {
   "cell_type": "code",
   "execution_count": 178,
   "metadata": {},
   "outputs": [
    {
     "data": {
      "text/plain": [
       "187    Mega_Mendung\n",
       "325          Parang\n",
       "95           Kawung\n",
       "281    Mega_Mendung\n",
       "364          Parang\n",
       "           ...     \n",
       "427          Parang\n",
       "206    Mega_Mendung\n",
       "506         Truntum\n",
       "262    Mega_Mendung\n",
       "493         Truntum\n",
       "Name: labels, Length: 150, dtype: object"
      ]
     },
     "execution_count": 178,
     "metadata": {},
     "output_type": "execute_result"
    }
   ],
   "source": [
    "y_test"
   ]
  },
  {
   "cell_type": "code",
   "execution_count": 179,
   "metadata": {},
   "outputs": [
    {
     "name": "stdout",
     "output_type": "stream",
     "text": [
      "              precision    recall  f1-score   support\n",
      "\n",
      "      Kawung       0.62      0.38      0.47        40\n",
      "Mega_Mendung       0.67      0.81      0.73        37\n",
      "      Parang       0.74      0.59      0.66        39\n",
      "     Truntum       0.50      0.74      0.60        34\n",
      "\n",
      "    accuracy                           0.62       150\n",
      "   macro avg       0.63      0.63      0.61       150\n",
      "weighted avg       0.64      0.62      0.61       150\n",
      "\n"
     ]
    }
   ],
   "source": [
    "print(classification_report(y_test, y_pred))"
   ]
  }
 ],
 "metadata": {
  "kernelspec": {
   "display_name": "base",
   "language": "python",
   "name": "python3"
  },
  "language_info": {
   "codemirror_mode": {
    "name": "ipython",
    "version": 3
   },
   "file_extension": ".py",
   "mimetype": "text/x-python",
   "name": "python",
   "nbconvert_exporter": "python",
   "pygments_lexer": "ipython3",
   "version": "3.9.13"
  },
  "orig_nbformat": 4
 },
 "nbformat": 4,
 "nbformat_minor": 2
}
