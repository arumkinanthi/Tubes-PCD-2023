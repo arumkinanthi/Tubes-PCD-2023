{
 "cells": [
  {
   "attachments": {},
   "cell_type": "markdown",
   "metadata": {},
   "source": [
    "### TUGAS BESAR PRAKTIKUM PENGOLAHAN CITRA DIGITAL\n",
    "#### Penerapan Metode Ekstraksi Ciri GLCM untuk Identifikasi Pola dalam Pengklasifikasian Jenis Batik"
   ]
  },
  {
   "cell_type": "code",
   "execution_count": 36,
   "metadata": {},
   "outputs": [],
   "source": [
    "import cv2 as cv\n",
    "import matplotlib.pyplot as plt\n",
    "import numpy as np\n",
    "import os\n",
    "import pandas as pd\n",
    "import math\n",
    "from tqdm import tqdm"
   ]
  },
  {
   "attachments": {},
   "cell_type": "markdown",
   "metadata": {},
   "source": [
    "Blok kode di atas digunakan untuk mengimport library-library yang akan digunakan di dalam program.\n",
    "Terdapat library cv2 yang digunakan untuk proses input, simpan dan menampilkan citra diberi nama cv sebagai alias.\n",
    "Lalu library matplotlib dengan class pyplot untuk melakukan visualisasi data yang dialiaskan sebagai plt.\n",
    "Kemudian terdapat numpy yang berfungsi untuk melakukan operasi numerik terhadap citra yang diberi nama alias np.\n",
    "Terdapat juga library os yang digunakan untuk berinteraksi dengan sistem operasi pada tingkat yang lebih rendah seperti mengakses dan memanipulasi jalur (path) file dan direktori.\n",
    "Library pandas digunakan untuk melakukan manipulasi dan analisis data dalam Python. Library ini menyediakan struktur data dan fungsi yang kuat untuk memanipulasi, menganalisis, dan mengolah data tabular.\n",
    "Library math digunakan untuk melakukan operasi aritmatika seperti logaritma dan pengakaran.\n",
    "Library tqdm digunakan untuk membuat bar progres (progress bar) yang interaktif saat melakukan iterasi atau perulangan dalam kode Python. Progress bar memberikan tampilan visual yang membantu mengindikasikan kemajuan suatu proses yang sedang berlangsung."
   ]
  },
  {
   "attachments": {},
   "cell_type": "markdown",
   "metadata": {},
   "source": [
    "#### Melakukan preprocessing terhadap dataset yang telah disediakan."
   ]
  },
  {
   "cell_type": "code",
   "execution_count": 37,
   "metadata": {},
   "outputs": [],
   "source": [
    "def threshold(image):\n",
    "   for i in range(image.shape[0]):\n",
    "      for j in range(image.shape[1]):\n",
    "         if image[i][j] < 128:\n",
    "            image[i][j] = 0\n",
    "         if image[i][j] >= 128:\n",
    "            image[i][j] = 255\n",
    "   return image"
   ]
  },
  {
   "attachments": {},
   "cell_type": "markdown",
   "metadata": {},
   "source": [
    "Blok kode di atas merupakan fungsi threshold yang melakukan proses thresholding pada citra image dengan memberi kondisi jika intensitas piksel bernilai di bawah 128, maka intensitas piksel tersebut dihitung sebagai 0. Jika intensitas piksel bernilai di atas atau sama dengan 128, maka intensitas piksel tersebut dihitung sebagai 255."
   ]
  },
  {
   "cell_type": "code",
   "execution_count": 38,
   "metadata": {},
   "outputs": [],
   "source": [
    "def sobel(image):\n",
    "   sobel_x = cv.Sobel(image, cv.CV_64F, 1, 0, ksize=3)\n",
    "   sobel_y = cv.Sobel(image, cv.CV_64F, 0, 1, ksize=3)\n",
    "   result = cv.magnitude(sobel_x, sobel_y)\n",
    "   return result"
   ]
  },
  {
   "attachments": {},
   "cell_type": "markdown",
   "metadata": {},
   "source": [
    "Blok kode di atas merupakan proses pendeteksian tepi menggunakan Operator Sobel yang ada pada library cv2. Fungsi ini memiliki sebuah parameter bernama image. Selanjutnya, kode tersebut melakukan operasi Sobel pada gambar dengan menggunakan fungsi cv.Sobel(). Terdapat dua pemanggilan cv.Sobel() yang masing-masing menghitung gradien dalam sumbu x dan sumbu y. Dalam hal ini, image digunakan sebagai input, cv.CV_64F menentukan tipe data output, 1 dan 0 menentukan gradien dalam sumbu x dan sumbu y (contoh yang ini adalah x=1, y=0), dan ksize=3 menentukan ukuran kernel Sobel sebagai 3x3.\n",
    "Setelah itu, cv.magnitude() digunakan untuk menghitung magnitudo gradien dengan mengambil akar kuadrat dari penjumlahan kuadrat gradien dalam sumbu x dan sumbu y. Hasil magnitudo gradien disimpan dalam variabel result yang kemudian dikembalikan oleh fungsi sebagai output."
   ]
  },
  {
   "cell_type": "code",
   "execution_count": 39,
   "metadata": {},
   "outputs": [],
   "source": [
    "labels = [] #menyimpan labels\n",
    "filenames = [] #menyimpan nama image\n",
    "data = [] #menyimpan data image\n",
    "\n",
    "def read_data(folder):\n",
    "   for label in os.listdir(folder):\n",
    "      label_path = os.path.join(folder, label)\n",
    "      \n",
    "      if os.path.isdir(label_path):            \n",
    "         for filename in os.listdir(label_path):\n",
    "            file_path = os.path.join(label_path, filename)\n",
    "            img = cv.imread(file_path)\n",
    "            img = cv.cvtColor(img, cv.COLOR_BGR2GRAY)\n",
    "               \n",
    "            #preprocessing data               \n",
    "            img = cv.resize(img, (256, 256))\n",
    "            img = cv.normalize(img, None, 0, 255, cv.NORM_MINMAX, cv.CV_8U)\n",
    "            img = cv.equalizeHist(img)\n",
    "            img = sobel(img)\n",
    "            img = threshold(img)\n",
    "            plt.imsave(\"data_sebelum_uji/\"+filename, img)\n",
    "            data.append(img)\n",
    "            labels.append(label)\n",
    "            filenames.append(filename)\n",
    "               \n",
    "            if img is None:\n",
    "               print(\"Tidak ada gambar: {file_path}\")"
   ]
  },
  {
   "attachments": {},
   "cell_type": "markdown",
   "metadata": {},
   "source": [
    "Blok kode di atas digunakan untuk membaca dan memproses dataset yang ada. Terdapat tiga variabel yang dideklarasikan sebelum fungsi, yaitu labels, filenames, dan data. Variabel labels digunakan untuk menyimpan label-label yang terkait dengan gambar-gambar. Variabel filenames digunakan untuk menyimpan nama file gambar. Variabel data digunakan untuk menyimpan data gambar yang telah diproses. Fungsi read_data() menerima parameter folder, yang merupakan path ke folder yang berisi data gambar. Pada baris pertama dalam fungsi, perulangan for digunakan untuk mengiterasi melalui setiap label di dalam folder. os.listdir(folder) digunakan untuk mendapatkan daftar file dan direktori di dalam folder yang diberikan. Di dalam perulangan pertama, variabel label_path digunakan untuk menyimpan path ke folder label yang sedang diproses. Kemudian, perulangan for kedua digunakan untuk mengiterasi melalui setiap file dalam folder label yang sedang diproses. os.listdir(label_path) digunakan untuk mendapatkan daftar file di dalam folder label. Di dalam perulangan kedua, variabel file_path digunakan untuk menyimpan path ke file gambar yang sedang diproses. Gambar dibaca menggunakan cv.imread(file_path), kemudian diubah menjadi citra grayscale menggunakan cv.cvtColor(img, cv.COLOR_BGR2GRAY).\n",
    "\n",
    "Setelah itu, dilakukan tahap preprocessing pada gambar. Gambar diubah menjadi ukuran 256x256 piksel menggunakan cv.resize(img, (256, 256)). Kemudian, gambar dinormalisasi menggunakan cv.normalize() untuk mengatur rentang intensitas piksel menjadi 0-255. Dilakukan juga ekualisasi histogram menggunakan cv.equalizeHist() untuk meningkatkan kontras gambar. Selanjutnya, gambar diteruskan ke fungsi sobel() yang diduga melakukan deteksi tepi menggunakan operator Sobel. Setelah itu, gambar diteruskan ke fungsi threshold() yang diduga melakukan proses thresholding untuk menghasilkan gambar biner. Gambar yang telah diproses disimpan dengan plt.imsave() dengan nama file yang sesuai dalam folder \"data_sebelum_uji/\". Data gambar, label, dan nama file ditambahkan ke masing-masing variabel data, labels, dan filenames. Terdapat juga penanganan ketika gambar tidak dapat dibaca dengan mencetak pesan kesalahan."
   ]
  },
  {
   "cell_type": "code",
   "execution_count": 40,
   "metadata": {},
   "outputs": [],
   "source": [
    "read_data(\"batik/\")"
   ]
  },
  {
   "attachments": {},
   "cell_type": "markdown",
   "metadata": {},
   "source": [
    "Blok kode di atas merupakan pemanggilan fungsi read_data() dengan folder batik sebagai argument yang dipassing ke dalam variabel folder dalam fungsi tersebut."
   ]
  },
  {
   "cell_type": "code",
   "execution_count": 41,
   "metadata": {},
   "outputs": [],
   "source": [
    "data = np.array(data).astype(int)"
   ]
  },
  {
   "attachments": {},
   "cell_type": "markdown",
   "metadata": {},
   "source": [
    "Blok kode di atas digunakan untuk mengubah data yang disimpan dalam list data menjadi sebuah array dan mengubah tipe datanya menjadi integer. Hasil dari proses ini akan disimpan kembali ke dalam variabel data."
   ]
  },
  {
   "attachments": {},
   "cell_type": "markdown",
   "metadata": {},
   "source": [
    "#### Melakukan ekstraksi ciri pada dataset yang telah dipreprocessing sebelumnya."
   ]
  },
  {
   "cell_type": "code",
   "execution_count": 42,
   "metadata": {},
   "outputs": [],
   "source": [
    "def derajat0(img):\n",
    "   max = np.max(img)\n",
    "   temp = np.zeros([max + 1, max + 1])\n",
    "    \n",
    "   for i in range(len(img)):\n",
    "      for j in range(len(img[i]) - 1):\n",
    "         temp[img[i, j], img[i, j + 1]] += 1\n",
    "    \n",
    "   result = temp + temp.T\n",
    "   result /= np.sum(result)\n",
    "   \n",
    "   return result"
   ]
  },
  {
   "attachments": {},
   "cell_type": "markdown",
   "metadata": {},
   "source": [
    "Blok kode di atas merupakan fungsi derajat0 dengan parameter img. Yang pertama dilakukan adalah mencari nilai maksimum dalam gambar menggunakan np.max(img). Nilai ini akan digunakan untuk membuat matriks kosong dengan ukuran (max + 1) x (max + 1).Membuat matriks kosong temp dengan ukuran yang sesuai menggunakan np.zeros. Melakukan loop pada setiap baris (i) dan kolom (j) dalam gambar. Pada setiap iterasi, menambahkan jumlah kemunculan pasangan piksel sebelah kanan menggunakan temp[img[i, j], img[i, j + 1]] += 1. Ini dilakukan untuk menghitung distribusi probabilitas dari piksel-piksel yang muncul berdampingan. Menggabungkan matriks temp dengan tranposenya menggunakan temp + temp.T. Ini dilakukan untuk memperoleh matriks simetri yang mencerminkan ketergantungan piksel secara bilateral. Membagi matriks data dengan jumlah semua elemennya menggunakan data /= np.sum(data). Ini dilakukan untuk menghitung probabilitas dari setiap pasangan piksel. Mengembalikan matriks distribusi probabilitas data."
   ]
  },
  {
   "cell_type": "code",
   "execution_count": 43,
   "metadata": {},
   "outputs": [],
   "source": [
    "def derajat45(img):\n",
    "   max = np.max(img)\n",
    "   temp = np.zeros([max + 1, max + 1])\n",
    "    \n",
    "   for i in range(len(img) - 1):\n",
    "      for j in range(len(img[i]) - 1):\n",
    "         temp[img[i + 1, j], img[i, j + 1]] += 1\n",
    "    \n",
    "   result = temp + temp.T\n",
    "   result /= np.sum(result)\n",
    "    \n",
    "   return result"
   ]
  },
  {
   "attachments": {},
   "cell_type": "markdown",
   "metadata": {},
   "source": [
    "Blok kode di atas merupakan fungsi derajat45 dengan parameter img. Yang pertama dilakukan adalah mencari nilai maksimum dalam gambar menggunakan np.max(img), nilai tersebut akan digunakan untuk membuat matriks kosong dengan ukuran (max + 1) x (max + 1). Kemudian, matriks kosong temp dengan ukuran yang sesuai akan dibuat menggunakan np.zeros. Selanjutnya, kita akan melakukan loop pada setiap baris (i) dan kolom (j) dalam gambar, kecuali baris terakhir dan kolom terakhir. Pada setiap iterasi, kita akan menambahkan jumlah kemunculan pasangan piksel pada posisi yang ditentukan oleh (img[i + 1, j], img[i, j + 1]) menggunakan temp[img[i + 1, j], img[i, j + 1]] += 1. Langkah ini dilakukan untuk menghitung distribusi probabilitas dari piksel-piksel yang muncul pada sudut 45 derajat.\n",
    "Setelah itu, kita akan menggabungkan matriks temp dengan transposenya menggunakan temp + temp.T. Hal ini dilakukan untuk memperoleh matriks simetri yang mencerminkan ketergantungan piksel secara bilateral. Selanjutnya, kita akan membagi matriks data dengan jumlah semua elemennya menggunakan data /= np.sum(data). Langkah ini dilakukan untuk menghitung probabilitas dari setiap pasangan piksel.Terakhir, matriks distribusi probabilitas data akan dikembalikan."
   ]
  },
  {
   "cell_type": "code",
   "execution_count": 44,
   "metadata": {},
   "outputs": [],
   "source": [
    "def derajat90(img):\n",
    "   max = np.max(img)\n",
    "   temp = np.zeros([max + 1, max + 1])\n",
    "    \n",
    "   for i in range(len(img) - 1):\n",
    "      for j in range(len(img[i]) - 1):\n",
    "         temp[img[i + 1, j], img[i, j]] += 1\n",
    "\n",
    "   result = temp + temp.T\n",
    "   result /= np.sum(result)\n",
    "    \n",
    "   return result"
   ]
  },
  {
   "attachments": {},
   "cell_type": "markdown",
   "metadata": {},
   "source": [
    "Blok kode di atas merupakan fungsi derajat90 dengan parameter img. Yang pertama dilakukan adalah mencari nilai maksimum dalam gambar menggunakan np.max(img). Nilai ini akan digunakan untuk membuat matriks kosong dengan ukuran (max + 1) x (max + 1). Membuat matriks kosong temp dengan ukuran yang sesuai menggunakan np.zeros. Melakukan loop pada setiap baris (i) dan kolom (j) dalam gambar, kecuali baris terakhir dan kolom terakhir. Pada setiap iterasi, menambahkan jumlah kemunculan pasangan piksel pada posisi yang ditentukan oleh (img[i + 1, j], img[i, j]) menggunakan temp[img[i + 1, j], img[i, j]] += 1. Ini dilakukan untuk menghitung distribusi probabilitas dari piksel-piksel yang muncul pada sudut 90 derajat. Menggabungkan matriks temp dengan tranposenya menggunakan temp + temp.T. Ini dilakukan untuk memperoleh matriks simetri yang mencerminkan ketergantungan piksel secara bilateral. Membagi matriks data dengan jumlah semua elemennya menggunakan data /= np.sum(data). Ini dilakukan untuk menghitung probabilitas dari setiap pasangan piksel.Mengembalikan matriks distribusi probabilitas data."
   ]
  },
  {
   "cell_type": "code",
   "execution_count": 45,
   "metadata": {},
   "outputs": [],
   "source": [
    "def derajat135(img):\n",
    "   max = np.max(img)\n",
    "   temp = np.zeros([max + 1, max + 1])\n",
    "    \n",
    "   for i in range(len(img) - 1):\n",
    "      for j in range(len(img[i]) - 1):\n",
    "         temp[img[i, j], img[i + 1, j + 1]] += 1\n",
    "    \n",
    "   result = temp + temp.T\n",
    "   result /= np.sum(result)\n",
    "   \n",
    "   return result"
   ]
  },
  {
   "attachments": {},
   "cell_type": "markdown",
   "metadata": {},
   "source": [
    "Blok kode di atas merupakan fungsi derajat135 dengan parameter img. Yang pertama dilakukan adalah mencari nilai maksimum dalam gambar menggunakan np.max(img), nilai tersebut akan digunakan untuk membuat matriks kosong dengan ukuran (max + 1) x (max + 1). Matriks kosong temp dengan ukuran yang sesuai akan dibuat menggunakan np.zeros.Selanjutnya, akan dilakukan loop pada setiap baris (i) dan kolom (j) dalam gambar, kecuali baris terakhir dan kolom terakhir. Pada setiap iterasi, kita akan menambahkan jumlah kemunculan pasangan piksel pada posisi yang ditentukan oleh (img[i, j], img[i + 1, j + 1]) menggunakan temp[img[i, j], img[i + 1, j + 1]] += 1. Langkah ini dilakukan untuk menghitung distribusi probabilitas dari piksel-piksel yang muncul pada sudut 135 derajat. Setelah itu, menggabungkan matriks temp dengan transposenya menggunakan temp + temp.T. Hal ini dilakukan untuk memperoleh matriks simetri yang mencerminkan ketergantungan piksel secara bilateral.Selanjutnya, membagi matriks data dengan jumlah semua elemennya menggunakan data /= np.sum(data). Langkah ini dilakukan untuk menghitung probabilitas dari setiap pasangan piksel.Terakhir, matriks distribusi probabilitas data akan dikembalikan."
   ]
  },
  {
   "cell_type": "code",
   "execution_count": 46,
   "metadata": {},
   "outputs": [],
   "source": [
    "def extract(image):\n",
    "   feature = []\n",
    "   for img in tqdm(image, desc='Ekstraksi'):\n",
    "      result = []\n",
    "      result.append(derajat0(img))\n",
    "      result.append(derajat45(img))\n",
    "      result.append(derajat90(img))\n",
    "      result.append(derajat135(img))\n",
    "      feature.append(result)\n",
    "   return feature"
   ]
  },
  {
   "attachments": {},
   "cell_type": "markdown",
   "metadata": {},
   "source": [
    "Blok kode di atas merupakan fungsi extract dengan parameter image. Untuk menyimpan fitur-fitur yang diekstraksi dari setiap gambar, akan dibuat sebuah list kosong yang disebut feature. Selanjutnya, kita akan melakukan loop pada setiap gambar dalam list image menggunakan tqdm untuk menampilkan progress bar. Pada setiap iterasi, akan dibuat sebuah list kosong yang disebut data untuk menyimpan fitur-fitur dari gambar saat ini. Kemudian, dipanggil fungsi derajat0, derajat45, derajat90, dan derajat135 untuk menghasilkan matriks distribusi probabilitas dari gambar pada empat sudut yang berbeda. Setelah itu, akan ditambahkan matriks distribusi probabilitas ke dalam list data. Langkah terakhir adalah menambahkan list data ke dalam list feature. terakhir akan dikembalikan list feature yang berisi fitur-fitur yang diekstraksi dari setiap gambar."
   ]
  },
  {
   "cell_type": "code",
   "execution_count": 47,
   "metadata": {},
   "outputs": [
    {
     "name": "stderr",
     "output_type": "stream",
     "text": [
      "Ekstraksi: 100%|██████████| 600/600 [01:55<00:00,  5.19it/s]\n"
     ]
    }
   ],
   "source": [
    "features = extract(data)"
   ]
  },
  {
   "attachments": {},
   "cell_type": "markdown",
   "metadata": {},
   "source": [
    "Blok kode di atas memanggil fungsi extract() dengan argumen data dan menyimpan hasilnya ke dalam variabel features. Fungsi extract() dipanggil dengan argumen data. Fungsi tersebut akan memproses data yang ada dan menghasilkan fitur-fitur yang dianggap penting atau relevan dari data tersebut. Hasil yang dikembalikan oleh fungsi extract() kemudian disimpan dalam variabel features. Variabel features akan berisi hasil ekstraksi fitur dari data yang telah diproses oleh fungsi tersebut."
   ]
  },
  {
   "cell_type": "code",
   "execution_count": 48,
   "metadata": {},
   "outputs": [],
   "source": [
    "def dissimilarity(data_res): \n",
    "   result = 0\n",
    "   for i in range (len(data_res)): \n",
    "      for j in range(len(data_res)):\n",
    "         #rumus : p(x,y)+|i-j|\n",
    "         result += data_res[i,j] + abs(i-j)\n",
    "   return result"
   ]
  },
  {
   "attachments": {},
   "cell_type": "markdown",
   "metadata": {},
   "source": [
    "Blok kode di atas merupakan fungsi dissimilarity(), yang bertujuan untuk menghitung nilai ketidakserupaan antara elemen-elemen dalam suatu matriks data_res. Pada baris pertama, variabel result diinisialisasi dengan nilai 0. Variabel ini akan digunakan untuk menyimpan hasil perhitungan dissimilarity. Perulangan pertama dengan variabel i digunakan untuk mengiterasi melalui indeks baris matriks data_res. Perulangan kedua dengan variabel j digunakan untuk mengiterasi melalui indeks kolom matriks data_res. Di dalam kedua perulangan, dilakukan perhitungan dissimilarity menggunakan rumus p(x,y) + |i-j|. p(x,y) adalah elemen matriks data_res pada posisi (i, j). abs(i-j) adalah selisih absolut antara nilai indeks i dan j. Hasil perhitungan dissimilarity ditambahkan dengan nilai data_res[i, j] + abs(i-j) dan disimpan dalam variabel result. Setelah selesai melakukan perulangan, nilai result yang telah mengakumulasi hasil perhitungan dissimilarity dikembalikan dari fungsi sebagai output."
   ]
  },
  {
   "cell_type": "code",
   "execution_count": 49,
   "metadata": {},
   "outputs": [],
   "source": [
    "def ASM(data_res): \n",
    "   result = 0\n",
    "   for i in range (len(data_res)): \n",
    "      for j in range(len(data_res)):\n",
    "         #rumus : p(x,y)^2\n",
    "         result += pow(data_res[i,j],2)\n",
    "   return result"
   ]
  },
  {
   "attachments": {},
   "cell_type": "markdown",
   "metadata": {},
   "source": [
    "Blok kode di atas merupakan fungsi ASM() yang bertujuan untuk menghitung nilai Angular Second Moment (ASM) dari suatu matriks data_res. Pada baris pertama, variabel result diinisialisasi dengan nilai 0. Variabel ini akan digunakan untuk menyimpan hasil perhitungan ASM. Terdapat dua perulangan for berturut-turut. Perulangan pertama dengan variabel i digunakan untuk mengiterasi melalui indeks baris matriks data_res. Perulangan kedua dengan variabel j digunakan untuk mengiterasi melalui indeks kolom matriks data_res. Di dalam kedua perulangan, dilakukan perhitungan ASM menggunakan rumus p(x,y)^2. p(x,y) adalah elemen matriks data_res pada posisi (i, j). Hasil perhitungan data_res[i, j]^2 ditambahkan ke variabel result dengan menggunakan operator += untuk mengakumulasi hasil perhitungan. Setelah selesai melakukan perulangan, nilai result yang telah mengakumulasi hasil perhitungan ASM dikembalikan dari fungsi sebagai output."
   ]
  },
  {
   "cell_type": "code",
   "execution_count": 50,
   "metadata": {},
   "outputs": [],
   "source": [
    "def contrast(data_res): \n",
    "   result = 0\n",
    "   for i in range (len(data_res)): \n",
    "      for j in range(len(data_res)):\n",
    "         #rumus : p(x,y)+(i-j)^2\n",
    "         result += data_res[i,j] + pow(i-j,2)\n",
    "   return result"
   ]
  },
  {
   "attachments": {},
   "cell_type": "markdown",
   "metadata": {},
   "source": [
    "Blok kode di atas merupakan fungsi contrast() yang bertujuan untuk menghitung nilai kontras dari suatu matriks data_res. Pada baris pertama, variabel result diinisialisasi dengan nilai 0. Variabel ini akan digunakan untuk menyimpan hasil perhitungan kontras. Terdapat dua perulangan for berturut-turut. Perulangan pertama dengan variabel i digunakan untuk mengiterasi melalui indeks baris matriks data_res. Perulangan kedua dengan variabel j digunakan untuk mengiterasi melalui indeks kolom matriks data_res. Di dalam kedua perulangan, dilakukan perhitungan kontras menggunakan rumus p(x,y) + (i-j)^2. p(x,y) adalah elemen matriks data_res pada posisi (i, j). (i-j)^2 adalah selisih antara nilai indeks i dan j yang dipangkatkan dua. Hasil perhitungan data_res[i, j] + (i-j)^2 ditambahkan ke variabel result dengan menggunakan operator += untuk mengakumulasi hasil perhitungan. Setelah selesai melakukan perulangan, nilai result yang telah mengakumulasi hasil perhitungan kontras dikembalikan dari fungsi sebagai output."
   ]
  },
  {
   "cell_type": "code",
   "execution_count": 51,
   "metadata": {},
   "outputs": [],
   "source": [
    "def entrophy(data_res): \n",
    "   result = 0\n",
    "   for i in range (len(data_res)): \n",
    "      for j in range(len(data_res)):\n",
    "         if data_res[i,j] > 0:\n",
    "            #rumus : -(p(x,y)*log^2(i-j)\n",
    "            result += -(data_res[i,j] * math.log2(data_res[i,j]))\n",
    "   return result"
   ]
  },
  {
   "attachments": {},
   "cell_type": "markdown",
   "metadata": {},
   "source": [
    "Blok kode di atas merupakan fungsi entropy() yang bertujuan untuk menghitung nilai entropi dari suatu matriks data_res. Pada baris pertama, variabel result diinisialisasi dengan nilai 0. Variabel ini akan digunakan untuk menyimpan hasil perhitungan entropi. Terdapat dua perulangan for berturut-turut. Perulangan pertama dengan variabel i digunakan untuk mengiterasi melalui indeks baris matriks data_res. Perulangan kedua dengan variabel j digunakan untuk mengiterasi melalui indeks kolom matriks data_res. Di dalam kedua perulangan, dilakukan perhitungan entropi menggunakan rumus -(p(x,y) * log2(p(x,y))). p(x,y) adalah elemen matriks data_res pada posisi (i, j). Rumus ini menghitung entropi untuk setiap elemen yang lebih besar dari 0. Nilai entropi dihitung sebagai hasil perkalian antara p(x,y) dan logaritma basis 2 dari p(x,y). Jika nilai data_res[i, j] lebih besar dari 0, maka perhitungan entropi dilakukan dengan mengurangi hasil perkalian dari -(data_res[i, j] * math.log2(data_res[i, j])) dari variabel result. Setelah selesai melakukan perulangan, nilai result yang telah mengakumulasi hasil perhitungan entropi dikembalikan dari fungsi sebagai output."
   ]
  },
  {
   "cell_type": "code",
   "execution_count": 52,
   "metadata": {},
   "outputs": [],
   "source": [
    "def energy(data_res): \n",
    "   result = 0\n",
    "   for i in range (len(data_res)): \n",
    "      for j in range(len(data_res)):\n",
    "         #rumus : sqrt(p(x,y)^2) atau sqrt(ASM)\n",
    "         result += pow(data_res[i,j],2)\n",
    "   return result"
   ]
  },
  {
   "attachments": {},
   "cell_type": "markdown",
   "metadata": {},
   "source": [
    "Blok kode di atas merupakan fungsi energy() yang bertujuan untuk menghitung nilai energi dari suatu matriks data_res. Pada baris pertama, variabel result diinisialisasi dengan nilai 0. Variabel ini akan digunakan untuk menyimpan hasil perhitungan energi. Terdapat dua perulangan for berturut-turut. Perulangan pertama dengan variabel i digunakan untuk mengiterasi melalui indeks baris matriks data_res. Perulangan kedua dengan variabel j digunakan untuk mengiterasi melalui indeks kolom matriks data_res. Di dalam kedua perulangan, dilakukan perhitungan energi menggunakan rumus sqrt(p(x,y)^2) atau sqrt(ASM). p(x,y) adalah elemen matriks data_res pada posisi (i, j). ASM merujuk pada Angular Second Moment, yang juga dikenal sebagai nilai energi dari matriks. Perhitungan energi dilakukan dengan memangkatkan nilai elemen matriks ke kuadrat dan menjumlahkannya ke variabel result menggunakan operator += untuk mengakumulasi hasil perhitungan. Setelah selesai melakukan perulangan, nilai result yang telah mengakumulasi hasil perhitungan energi dikembalikan dari fungsi sebagai output."
   ]
  },
  {
   "cell_type": "code",
   "execution_count": 53,
   "metadata": {},
   "outputs": [],
   "source": [
    "def homogenity(data_res): \n",
    "   result = 0\n",
    "   for i in range (len(data_res)): \n",
    "      for j in range(len(data_res)):\n",
    "         #rumus : p(x,y)/1+(i-j)^2\n",
    "         result += data_res[i,j]/(1+pow((i-j),2))\n",
    "   return result"
   ]
  },
  {
   "attachments": {},
   "cell_type": "markdown",
   "metadata": {},
   "source": [
    "Blok kode di atas merupakan fungsi homogeneity() yang bertujuan untuk menghitung nilai homogenitas dari suatu matriks data_res. Pada baris pertama, variabel result diinisialisasi dengan nilai 0. Variabel ini akan digunakan untuk menyimpan hasil perhitungan homogenitas. Terdapat dua perulangan for berturut-turut. Perulangan pertama dengan variabel i digunakan untuk mengiterasi melalui indeks baris matriks data_res. Perulangan kedua dengan variabel j digunakan untuk mengiterasi melalui indeks kolom matriks data_res. Di dalam kedua perulangan, dilakukan perhitungan homogenitas menggunakan rumus p(x,y)/(1+(i-j)^2). p(x,y) adalah elemen matriks data_res pada posisi (i, j). Rumus ini menghitung homogenitas untuk setiap elemen dalam matriks dengan membagi nilai elemen dengan 1 ditambah kuadrat selisih antara indeks baris dan indeks kolom. Hasil perhitungan data_res[i, j]/(1+pow((i-j),2)) ditambahkan ke variabel result dengan menggunakan operator += untuk mengakumulasi hasil perhitungan. Setelah selesai melakukan perulangan, nilai result yang telah mengakumulasi hasil perhitungan homogenitas dikembalikan dari fungsi sebagai output."
   ]
  },
  {
   "cell_type": "code",
   "execution_count": 54,
   "metadata": {},
   "outputs": [],
   "source": [
    "def correlation(data_res):\n",
    "   row = len(data_res)\n",
    "   column = len(data_res[0])\n",
    "   sumIJ = sum(i * j * data_res[i][j] for i in range(row) for j in range(column))\n",
    "   sumI = sum(i * data_res[i][j] for i in range(row) for j in range(column))\n",
    "   sumJ = sum(j * data_res[i][j] for i in range(row) for j in range(column))\n",
    "   sumI_squared = sum((i - sumI) ** 2 * data_res[i][j] for i in range(row) for j in range(column))\n",
    "   sumJ_squared = sum((j - sumJ) ** 2 * data_res[i][j] for i in range(row) for j in range(column))\n",
    "\n",
    "   std_i = math.sqrt(sumI_squared)\n",
    "   std_j = math.sqrt(sumJ_squared)\n",
    "\n",
    "   if std_i != 0 and std_j != 0:\n",
    "      result = (sumIJ - sumI * sumJ) / (std_i * std_j)\n",
    "   else:\n",
    "      result = 0\n",
    "\n",
    "   return result"
   ]
  },
  {
   "attachments": {},
   "cell_type": "markdown",
   "metadata": {},
   "source": [
    "Blok kode di atas merupakan fungsi correlation() yang bertujuan untuk menghitung nilai korelasi antara dua variabel dalam suatu matriks data_res. Pada baris pertama, variabel row diinisialisasi dengan nilai jumlah baris dalam matriks data_res, sedangkan variabel column diinisialisasi dengan nilai jumlah kolom dalam matriks. Selanjutnya, terdapat beberapa perhitungan yang dilakukan menggunakan beberapa perulangan for berturut-turut. Pada baris ketiga, dilakukan perhitungan sumIJ yang mengakumulasi hasil perkalian antara i, j, dan data_res[i][j] untuk setiap kombinasi indeks baris dan kolom. Ini digunakan dalam perhitungan korelasi. Pada baris keempat, dilakukan perhitungan sumI yang mengakumulasi hasil perkalian antara i dan data_res[i][j] untuk setiap kombinasi indeks baris dan kolom. Ini digunakan dalam perhitungan korelasi. Pada baris kelima, dilakukan perhitungan sumJ yang mengakumulasi hasil perkalian antara j dan data_res[i][j] untuk setiap kombinasi indeks baris dan kolom. Ini juga digunakan dalam perhitungan korelasi. Pada baris keenam, dilakukan perhitungan sumI_squared yang mengakumulasi hasil perkalian kuadrat dari selisih antara i dan sumI dengan data_res[i][j] untuk setiap kombinasi indeks baris dan kolom. Ini digunakan dalam perhitungan standar deviasi std_i. Pada baris ketujuh, dilakukan perhitungan sumJ_squared yang mengakumulasi hasil perkalian kuadrat dari selisih antara j dan sumJ dengan data_res[i][j] untuk setiap kombinasi indeks baris dan kolom. Ini digunakan dalam perhitungan standar deviasi std_j. Pada baris kesembilan, dilakukan perhitungan standar deviasi std_i dengan menghitung akar kuadrat dari sumI_squared. Pada baris kesepuluh, dilakukan perhitungan standar deviasi std_j dengan menghitung akar kuadrat dari sumJ_squared. Selanjutnya, dilakukan penghitungan nilai korelasi dengan rumus (sumIJ - sumI * sumJ) / (std_i * std_j). Jika nilai standar deviasi std_i dan std_j bukan nol (untuk menghindari pembagian dengan nol), maka perhitungan korelasi dilakukan dan hasilnya disimpan di variabel result. Jika salah satu dari standar deviasi tersebut nol, maka result diatur menjadi 0. Terakhir, nilai result yang merupakan hasil perhitungan korelasi dikembalikan dari fungsi sebagai output."
   ]
  },
  {
   "cell_type": "code",
   "execution_count": 55,
   "metadata": {},
   "outputs": [],
   "source": [
    "frame = []\n",
    "indeks = 0 #menentukan indeks dari nama filenya\n",
    "n = 200\n",
    "for i in features:\n",
    "   save = []\n",
    "   #untuk menginputkan nama dari file\n",
    "   save.append(filenames[indeks])\n",
    "   indeks += 1\n",
    "   for j in i:\n",
    "      #memanggil fungsi energy\n",
    "      en = energy(j)\n",
    "      save.append(en)\n",
    "        \n",
    "      #memanggil fungsi homogenitas\n",
    "      hm = homogenity(j)\n",
    "      save.append(hm)\n",
    "        \n",
    "      #memanggil fungsi entropi\n",
    "      ent = entrophy(j)\n",
    "      save.append(ent)\n",
    "        \n",
    "      #memanggil fungsi contrast\n",
    "      con = contrast(j)\n",
    "      save.append(con)\n",
    "\n",
    "      #memanggil fungsi dissimilarity\n",
    "      dis = dissimilarity(j)\n",
    "      save.append(dis)\n",
    "\n",
    "      #memanggil fungsi ASM\n",
    "      asm = ASM(j)\n",
    "      save.append(asm)\n",
    "       \n",
    "      #memanggil fungsi correlation\n",
    "      cor = correlation(j)\n",
    "      save.append(cor)\n",
    "        \n",
    "   #menginputkan isi var save ke var frame\n",
    "   frame.append(save)"
   ]
  },
  {
   "attachments": {},
   "cell_type": "markdown",
   "metadata": {},
   "source": [
    "Blok kode di atas merupakan proses ekstraksi fitur dari setiap elemen dalam features dan menyimpan hasilnya dalam frame. Pada baris pertama, variabel frame diinisialisasi sebagai sebuah list kosong. Variabel ini akan digunakan untuk menyimpan hasil ekstraksi fitur dari setiap elemen dalam features. Variabel indeks diinisialisasi dengan nilai 0. Variabel ini digunakan untuk menentukan indeks dari nama file yang akan disimpan dalam frame. Terdapat sebuah perulangan for yang mengiterasi melalui setiap elemen dalam features. Setiap elemen ini direpresentasikan oleh variabel i. Di dalam perulangan tersebut, sebuah list save kosong dibuat. List ini akan digunakan untuk menyimpan hasil ekstraksi fitur dari elemen i. Pada baris keenam, nama file (berdasarkan indeks yang ditentukan oleh indeks) ditambahkan ke dalam save menggunakan save.append(filenames[indeks]). Setelah itu, terdapat perulangan for yang mengiterasi melalui setiap elemen j dalam elemen i. Elemen j ini mewakili matriks yang akan diekstraksi fiturnya. Di dalam perulangan tersebut, fungsi-fungsi yang telah didefinisikan sebelumnya (seperti energy(), homogeneity(), entropy(), contrast(), dissimilarity(), ASM(), dan correlation()) dipanggil untuk melakukan ekstraksi fitur dari matriks j. Hasil ekstraksi fitur tersebut disimpan dalam variabel en, hm, ent, con, dis, asm, dan cor secara berturut-turut. Setelah mendapatkan hasil ekstraksi fitur, nilai-nilai tersebut ditambahkan ke dalam save menggunakan save.append(). Setelah selesai melakukan perulangan dalam elemen i, save yang berisi hasil ekstraksi fitur untuk satu elemen diinputkan ke dalam frame menggunakan frame.append(save). Proses ini diulangi untuk setiap elemen dalam features hingga semua elemen telah diekstraksi fiturnya dan hasilnya disimpan dalam frame. Setelah selesai melakukan perulangan, frame akan berisi hasil ekstraksi fitur dari setiap elemen dalam features, termasuk nama file dan nilai-nilai fitur yang terkait."
   ]
  },
  {
   "cell_type": "code",
   "execution_count": 56,
   "metadata": {},
   "outputs": [],
   "source": [
    "#membuat var yang nantinya digunakan sebagai header\n",
    "headerPass = ['path','energi0','homogenitas0','entropy0','contras0','dissimilarity0','ASM0','correlation0',\n",
    "              'energi45','homogenitas45','entropy45','contras45','dissimilarity45','ASM45','correlation45',\n",
    "              'energi90','homogenitas90','entropy90','contras90','dissimilarity90','ASM90','correlation90',\n",
    "              'energi135','homogenitas135','entropy135','contras135','dissimilarity135','ASM135','correlation135']\n",
    "#menginputkan var frame sebagai isi dari tabel\n",
    "df = pd.DataFrame(frame, columns = headerPass)\n",
    "#digunakan untuk mensave data menjadi file csv dengan nama Jurnalmodul8\n",
    "df['labels'] = labels\n",
    "df.to_csv(r'akurasi_ekstraksi_ciri.csv', index=False)"
   ]
  },
  {
   "attachments": {},
   "cell_type": "markdown",
   "metadata": {},
   "source": [
    "Blok kode di atas digunakan untuk membuat DataFrame menggunakan pandas dari variabel frame yang berisi hasil ekstraksi fitur. DataFrame tersebut kemudian disimpan sebagai file CSV dengan nama \"akurasi_ekstraksi_ciri.csv\". Variabel headerPass merupakan sebuah list yang berisi nama-nama kolom yang akan menjadi header atau nama kolom pada DataFrame. Nama-nama kolom ini mencakup jenis fitur dan sudut orientasi (0, 45, 90, dan 135 derajat) yang akan digunakan. Selanjutnya, DataFrame baru dibuat menggunakan pd.DataFrame(frame, columns=headerPass). Variabel frame digunakan sebagai data yang akan diisi ke dalam DataFrame, sedangkan columns=headerPass digunakan untuk menetapkan nama kolom sesuai dengan nilai dalam headerPass. Setelah DataFrame dibuat, kolom \"labels\" ditambahkan ke DataFrame dengan df['labels'] = labels. Kolom \"labels\" akan berisi nilai-nilai label yang telah ditentukan sebelumnya. Terakhir, DataFrame disimpan sebagai file CSV menggunakan df.to_csv(r'akurasi_ekstraksi_ciri.csv', index=False). r'akurasi_ekstraksi_ciri.csv' menentukan nama file dan path tempat file CSV akan disimpan. index=False digunakan untuk mengabaikan kolom indeks dalam DataFrame saat menyimpan ke file CSV."
   ]
  },
  {
   "cell_type": "code",
   "execution_count": 57,
   "metadata": {},
   "outputs": [
    {
     "data": {
      "text/html": [
       "<div>\n",
       "<style scoped>\n",
       "    .dataframe tbody tr th:only-of-type {\n",
       "        vertical-align: middle;\n",
       "    }\n",
       "\n",
       "    .dataframe tbody tr th {\n",
       "        vertical-align: top;\n",
       "    }\n",
       "\n",
       "    .dataframe thead th {\n",
       "        text-align: right;\n",
       "    }\n",
       "</style>\n",
       "<table border=\"1\" class=\"dataframe\">\n",
       "  <thead>\n",
       "    <tr style=\"text-align: right;\">\n",
       "      <th></th>\n",
       "      <th>path</th>\n",
       "      <th>energi0</th>\n",
       "      <th>homogenitas0</th>\n",
       "      <th>entropy0</th>\n",
       "      <th>contras0</th>\n",
       "      <th>dissimilarity0</th>\n",
       "      <th>ASM0</th>\n",
       "      <th>correlation0</th>\n",
       "      <th>energi45</th>\n",
       "      <th>homogenitas45</th>\n",
       "      <th>...</th>\n",
       "      <th>ASM90</th>\n",
       "      <th>correlation90</th>\n",
       "      <th>energi135</th>\n",
       "      <th>homogenitas135</th>\n",
       "      <th>entropy135</th>\n",
       "      <th>contras135</th>\n",
       "      <th>dissimilarity135</th>\n",
       "      <th>ASM135</th>\n",
       "      <th>correlation135</th>\n",
       "      <th>labels</th>\n",
       "    </tr>\n",
       "  </thead>\n",
       "  <tbody>\n",
       "    <tr>\n",
       "      <th>0</th>\n",
       "      <td>Kawung1.jpg</td>\n",
       "      <td>0.345918</td>\n",
       "      <td>0.735099</td>\n",
       "      <td>1.752151</td>\n",
       "      <td>715816961.0</td>\n",
       "      <td>5592321.0</td>\n",
       "      <td>0.345918</td>\n",
       "      <td>0.423307</td>\n",
       "      <td>0.335948</td>\n",
       "      <td>0.710731</td>\n",
       "      <td>...</td>\n",
       "      <td>0.346409</td>\n",
       "      <td>0.420493</td>\n",
       "      <td>0.335199</td>\n",
       "      <td>0.708947</td>\n",
       "      <td>1.783047</td>\n",
       "      <td>715816961.0</td>\n",
       "      <td>5592321.0</td>\n",
       "      <td>0.335199</td>\n",
       "      <td>0.365139</td>\n",
       "      <td>Kawung</td>\n",
       "    </tr>\n",
       "    <tr>\n",
       "      <th>1</th>\n",
       "      <td>Kawung11.jpg</td>\n",
       "      <td>0.469772</td>\n",
       "      <td>0.734348</td>\n",
       "      <td>1.465789</td>\n",
       "      <td>715816961.0</td>\n",
       "      <td>5592321.0</td>\n",
       "      <td>0.469772</td>\n",
       "      <td>0.207342</td>\n",
       "      <td>0.447978</td>\n",
       "      <td>0.678605</td>\n",
       "      <td>...</td>\n",
       "      <td>0.471957</td>\n",
       "      <td>0.211468</td>\n",
       "      <td>0.446619</td>\n",
       "      <td>0.674761</td>\n",
       "      <td>1.489468</td>\n",
       "      <td>715816961.0</td>\n",
       "      <td>5592321.0</td>\n",
       "      <td>0.446619</td>\n",
       "      <td>0.025984</td>\n",
       "      <td>Kawung</td>\n",
       "    </tr>\n",
       "    <tr>\n",
       "      <th>2</th>\n",
       "      <td>Kawung12.jpg</td>\n",
       "      <td>0.371557</td>\n",
       "      <td>0.752011</td>\n",
       "      <td>1.692554</td>\n",
       "      <td>715816961.0</td>\n",
       "      <td>5592321.0</td>\n",
       "      <td>0.371557</td>\n",
       "      <td>0.438867</td>\n",
       "      <td>0.363461</td>\n",
       "      <td>0.733460</td>\n",
       "      <td>...</td>\n",
       "      <td>0.384651</td>\n",
       "      <td>0.489927</td>\n",
       "      <td>0.361652</td>\n",
       "      <td>0.729554</td>\n",
       "      <td>1.720779</td>\n",
       "      <td>715816961.0</td>\n",
       "      <td>5592321.0</td>\n",
       "      <td>0.361652</td>\n",
       "      <td>0.386793</td>\n",
       "      <td>Kawung</td>\n",
       "    </tr>\n",
       "    <tr>\n",
       "      <th>3</th>\n",
       "      <td>Kawung13.jpg</td>\n",
       "      <td>0.344550</td>\n",
       "      <td>0.688347</td>\n",
       "      <td>1.765518</td>\n",
       "      <td>715816961.0</td>\n",
       "      <td>5592321.0</td>\n",
       "      <td>0.344550</td>\n",
       "      <td>0.293171</td>\n",
       "      <td>0.340061</td>\n",
       "      <td>0.673454</td>\n",
       "      <td>...</td>\n",
       "      <td>0.360312</td>\n",
       "      <td>0.373603</td>\n",
       "      <td>0.339679</td>\n",
       "      <td>0.672346</td>\n",
       "      <td>1.777420</td>\n",
       "      <td>715816961.0</td>\n",
       "      <td>5592321.0</td>\n",
       "      <td>0.339679</td>\n",
       "      <td>0.255360</td>\n",
       "      <td>Kawung</td>\n",
       "    </tr>\n",
       "    <tr>\n",
       "      <th>4</th>\n",
       "      <td>Kawung14.jpg</td>\n",
       "      <td>0.364211</td>\n",
       "      <td>0.674714</td>\n",
       "      <td>1.718105</td>\n",
       "      <td>715816961.0</td>\n",
       "      <td>5592321.0</td>\n",
       "      <td>0.364211</td>\n",
       "      <td>0.218638</td>\n",
       "      <td>0.362164</td>\n",
       "      <td>0.666549</td>\n",
       "      <td>...</td>\n",
       "      <td>0.386194</td>\n",
       "      <td>0.344901</td>\n",
       "      <td>0.362761</td>\n",
       "      <td>0.668333</td>\n",
       "      <td>1.720693</td>\n",
       "      <td>715816961.0</td>\n",
       "      <td>5592321.0</td>\n",
       "      <td>0.362761</td>\n",
       "      <td>0.201891</td>\n",
       "      <td>Kawung</td>\n",
       "    </tr>\n",
       "    <tr>\n",
       "      <th>...</th>\n",
       "      <td>...</td>\n",
       "      <td>...</td>\n",
       "      <td>...</td>\n",
       "      <td>...</td>\n",
       "      <td>...</td>\n",
       "      <td>...</td>\n",
       "      <td>...</td>\n",
       "      <td>...</td>\n",
       "      <td>...</td>\n",
       "      <td>...</td>\n",
       "      <td>...</td>\n",
       "      <td>...</td>\n",
       "      <td>...</td>\n",
       "      <td>...</td>\n",
       "      <td>...</td>\n",
       "      <td>...</td>\n",
       "      <td>...</td>\n",
       "      <td>...</td>\n",
       "      <td>...</td>\n",
       "      <td>...</td>\n",
       "      <td>...</td>\n",
       "    </tr>\n",
       "    <tr>\n",
       "      <th>595</th>\n",
       "      <td>Truntum5.jpg</td>\n",
       "      <td>0.334197</td>\n",
       "      <td>0.783796</td>\n",
       "      <td>1.746434</td>\n",
       "      <td>715816961.0</td>\n",
       "      <td>5592321.0</td>\n",
       "      <td>0.334197</td>\n",
       "      <td>0.564399</td>\n",
       "      <td>0.314288</td>\n",
       "      <td>0.745932</td>\n",
       "      <td>...</td>\n",
       "      <td>0.348096</td>\n",
       "      <td>0.611269</td>\n",
       "      <td>0.314485</td>\n",
       "      <td>0.746332</td>\n",
       "      <td>1.809670</td>\n",
       "      <td>715816961.0</td>\n",
       "      <td>5592321.0</td>\n",
       "      <td>0.314485</td>\n",
       "      <td>0.488764</td>\n",
       "      <td>Truntum</td>\n",
       "    </tr>\n",
       "    <tr>\n",
       "      <th>596</th>\n",
       "      <td>Truntum6.jpg</td>\n",
       "      <td>0.363416</td>\n",
       "      <td>0.691380</td>\n",
       "      <td>1.721416</td>\n",
       "      <td>715816961.0</td>\n",
       "      <td>5592321.0</td>\n",
       "      <td>0.363416</td>\n",
       "      <td>0.270751</td>\n",
       "      <td>0.353099</td>\n",
       "      <td>0.660274</td>\n",
       "      <td>...</td>\n",
       "      <td>0.387357</td>\n",
       "      <td>0.397885</td>\n",
       "      <td>0.351099</td>\n",
       "      <td>0.653908</td>\n",
       "      <td>1.747562</td>\n",
       "      <td>715816961.0</td>\n",
       "      <td>5592321.0</td>\n",
       "      <td>0.351099</td>\n",
       "      <td>0.181003</td>\n",
       "      <td>Truntum</td>\n",
       "    </tr>\n",
       "    <tr>\n",
       "      <th>597</th>\n",
       "      <td>Truntum7.jpg</td>\n",
       "      <td>0.342214</td>\n",
       "      <td>0.766333</td>\n",
       "      <td>1.743790</td>\n",
       "      <td>715816961.0</td>\n",
       "      <td>5592321.0</td>\n",
       "      <td>0.342214</td>\n",
       "      <td>0.511883</td>\n",
       "      <td>0.303760</td>\n",
       "      <td>0.679144</td>\n",
       "      <td>...</td>\n",
       "      <td>0.324943</td>\n",
       "      <td>0.436828</td>\n",
       "      <td>0.304950</td>\n",
       "      <td>0.682435</td>\n",
       "      <td>1.855170</td>\n",
       "      <td>715816961.0</td>\n",
       "      <td>5592321.0</td>\n",
       "      <td>0.304950</td>\n",
       "      <td>0.336086</td>\n",
       "      <td>Truntum</td>\n",
       "    </tr>\n",
       "    <tr>\n",
       "      <th>598</th>\n",
       "      <td>Truntum8.jpg</td>\n",
       "      <td>0.321548</td>\n",
       "      <td>0.758552</td>\n",
       "      <td>1.788481</td>\n",
       "      <td>715816961.0</td>\n",
       "      <td>5592321.0</td>\n",
       "      <td>0.321548</td>\n",
       "      <td>0.512512</td>\n",
       "      <td>0.292464</td>\n",
       "      <td>0.694814</td>\n",
       "      <td>...</td>\n",
       "      <td>0.339017</td>\n",
       "      <td>0.577463</td>\n",
       "      <td>0.293344</td>\n",
       "      <td>0.697060</td>\n",
       "      <td>1.875491</td>\n",
       "      <td>715816961.0</td>\n",
       "      <td>5592321.0</td>\n",
       "      <td>0.293344</td>\n",
       "      <td>0.388591</td>\n",
       "      <td>Truntum</td>\n",
       "    </tr>\n",
       "    <tr>\n",
       "      <th>599</th>\n",
       "      <td>Truntum9.jpg</td>\n",
       "      <td>0.367494</td>\n",
       "      <td>0.842741</td>\n",
       "      <td>1.627675</td>\n",
       "      <td>715816961.0</td>\n",
       "      <td>5592321.0</td>\n",
       "      <td>0.367494</td>\n",
       "      <td>0.685463</td>\n",
       "      <td>0.346988</td>\n",
       "      <td>0.811337</td>\n",
       "      <td>...</td>\n",
       "      <td>0.373141</td>\n",
       "      <td>0.701617</td>\n",
       "      <td>0.356018</td>\n",
       "      <td>0.825516</td>\n",
       "      <td>1.667763</td>\n",
       "      <td>715816961.0</td>\n",
       "      <td>5592321.0</td>\n",
       "      <td>0.356018</td>\n",
       "      <td>0.650985</td>\n",
       "      <td>Truntum</td>\n",
       "    </tr>\n",
       "  </tbody>\n",
       "</table>\n",
       "<p>600 rows × 30 columns</p>\n",
       "</div>"
      ],
      "text/plain": [
       "             path   energi0  homogenitas0  entropy0     contras0  \\\n",
       "0     Kawung1.jpg  0.345918      0.735099  1.752151  715816961.0   \n",
       "1    Kawung11.jpg  0.469772      0.734348  1.465789  715816961.0   \n",
       "2    Kawung12.jpg  0.371557      0.752011  1.692554  715816961.0   \n",
       "3    Kawung13.jpg  0.344550      0.688347  1.765518  715816961.0   \n",
       "4    Kawung14.jpg  0.364211      0.674714  1.718105  715816961.0   \n",
       "..            ...       ...           ...       ...          ...   \n",
       "595  Truntum5.jpg  0.334197      0.783796  1.746434  715816961.0   \n",
       "596  Truntum6.jpg  0.363416      0.691380  1.721416  715816961.0   \n",
       "597  Truntum7.jpg  0.342214      0.766333  1.743790  715816961.0   \n",
       "598  Truntum8.jpg  0.321548      0.758552  1.788481  715816961.0   \n",
       "599  Truntum9.jpg  0.367494      0.842741  1.627675  715816961.0   \n",
       "\n",
       "     dissimilarity0      ASM0  correlation0  energi45  homogenitas45  ...  \\\n",
       "0         5592321.0  0.345918      0.423307  0.335948       0.710731  ...   \n",
       "1         5592321.0  0.469772      0.207342  0.447978       0.678605  ...   \n",
       "2         5592321.0  0.371557      0.438867  0.363461       0.733460  ...   \n",
       "3         5592321.0  0.344550      0.293171  0.340061       0.673454  ...   \n",
       "4         5592321.0  0.364211      0.218638  0.362164       0.666549  ...   \n",
       "..              ...       ...           ...       ...            ...  ...   \n",
       "595       5592321.0  0.334197      0.564399  0.314288       0.745932  ...   \n",
       "596       5592321.0  0.363416      0.270751  0.353099       0.660274  ...   \n",
       "597       5592321.0  0.342214      0.511883  0.303760       0.679144  ...   \n",
       "598       5592321.0  0.321548      0.512512  0.292464       0.694814  ...   \n",
       "599       5592321.0  0.367494      0.685463  0.346988       0.811337  ...   \n",
       "\n",
       "        ASM90  correlation90  energi135  homogenitas135  entropy135  \\\n",
       "0    0.346409       0.420493   0.335199        0.708947    1.783047   \n",
       "1    0.471957       0.211468   0.446619        0.674761    1.489468   \n",
       "2    0.384651       0.489927   0.361652        0.729554    1.720779   \n",
       "3    0.360312       0.373603   0.339679        0.672346    1.777420   \n",
       "4    0.386194       0.344901   0.362761        0.668333    1.720693   \n",
       "..        ...            ...        ...             ...         ...   \n",
       "595  0.348096       0.611269   0.314485        0.746332    1.809670   \n",
       "596  0.387357       0.397885   0.351099        0.653908    1.747562   \n",
       "597  0.324943       0.436828   0.304950        0.682435    1.855170   \n",
       "598  0.339017       0.577463   0.293344        0.697060    1.875491   \n",
       "599  0.373141       0.701617   0.356018        0.825516    1.667763   \n",
       "\n",
       "      contras135  dissimilarity135    ASM135  correlation135   labels  \n",
       "0    715816961.0         5592321.0  0.335199        0.365139   Kawung  \n",
       "1    715816961.0         5592321.0  0.446619        0.025984   Kawung  \n",
       "2    715816961.0         5592321.0  0.361652        0.386793   Kawung  \n",
       "3    715816961.0         5592321.0  0.339679        0.255360   Kawung  \n",
       "4    715816961.0         5592321.0  0.362761        0.201891   Kawung  \n",
       "..           ...               ...       ...             ...      ...  \n",
       "595  715816961.0         5592321.0  0.314485        0.488764  Truntum  \n",
       "596  715816961.0         5592321.0  0.351099        0.181003  Truntum  \n",
       "597  715816961.0         5592321.0  0.304950        0.336086  Truntum  \n",
       "598  715816961.0         5592321.0  0.293344        0.388591  Truntum  \n",
       "599  715816961.0         5592321.0  0.356018        0.650985  Truntum  \n",
       "\n",
       "[600 rows x 30 columns]"
      ]
     },
     "execution_count": 57,
     "metadata": {},
     "output_type": "execute_result"
    }
   ],
   "source": [
    "df"
   ]
  },
  {
   "attachments": {},
   "cell_type": "markdown",
   "metadata": {},
   "source": [
    "Blok kode di atas digunakan untuk memanggil variabel df dan menampilkan isi dari variabel tersebut."
   ]
  }
 ],
 "metadata": {
  "kernelspec": {
   "display_name": "base",
   "language": "python",
   "name": "python3"
  },
  "language_info": {
   "codemirror_mode": {
    "name": "ipython",
    "version": 3
   },
   "file_extension": ".py",
   "mimetype": "text/x-python",
   "name": "python",
   "nbconvert_exporter": "python",
   "pygments_lexer": "ipython3",
   "version": "3.9.13"
  },
  "orig_nbformat": 4
 },
 "nbformat": 4,
 "nbformat_minor": 2
}
